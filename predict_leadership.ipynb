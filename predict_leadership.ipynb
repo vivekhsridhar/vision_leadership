{
 "cells": [
  {
   "cell_type": "code",
   "execution_count": 11,
   "metadata": {},
   "outputs": [],
   "source": [
    "import numpy as np\n",
    "import pandas as pd\n",
    "import matplotlib.pyplot as plt\n",
    "from keras.callbacks import TensorBoard, ReduceLROnPlateau, EarlyStopping\n",
    "from keras.layers import Input, Conv1D, AveragePooling1D, UpSampling1D, Add\n",
    "from keras.regularizers import l2\n",
    "from keras.models import Model\n",
    "from keras.optimizers import Adam\n",
    "from keras.utils import to_categorical"
   ]
  },
  {
   "cell_type": "code",
   "execution_count": 16,
   "metadata": {},
   "outputs": [],
   "source": [
    "n_inds = 10\n",
    "training_folders = ['0066', '0105']\n",
    "validation_folders = ['0126']"
   ]
  },
  {
   "cell_type": "code",
   "execution_count": 17,
   "metadata": {},
   "outputs": [],
   "source": [
    "for i,name in enumerate(training_folders):\n",
    "    tmp = pd.read_hdf('/mnt/ssd1/Documents/Vivek/dnn/vision_leadership/golden_shiners/10_fish/' + name + '/' + name + '.h5')\n",
    "    tmp['vid_id'] = i\n",
    "    if i != 0:\n",
    "        df_train = np.concatenate((df_train,tmp), axis=0)\n",
    "    else:\n",
    "        df_train = tmp\n",
    "        \n",
    "for i,name in enumerate(validation_folders):\n",
    "    tmp = pd.read_hdf('/mnt/ssd1/Documents/Vivek/dnn/vision_leadership/golden_shiners/10_fish/' + name + '/' + name + '.h5')\n",
    "    tmp['vid_id'] = i\n",
    "    if i != 0:\n",
    "        df_validation = np.concatenate((df_validation,tmp), axis=0)\n",
    "    else:\n",
    "        df_validation = tmp\n",
    "\n",
    "df_train = pd.DataFrame(df_train)\n",
    "df_validation = pd.DataFrame(df_validation)\n",
    "\n",
    "df_train.columns = ['frame', 'ang_area_left_eye', 'ang_area_right_eye', 'f_id', 'n_id', 'cos_pos_left_eye', 'sin_pos_left_eye', 'cos_pos_right_eye', 'sin_pos_right_eye', 'leader', 'vid_id']\n",
    "df_validation.columns = ['frame', 'ang_area_left_eye', 'ang_area_right_eye', 'f_id', 'n_id', 'cos_pos_left_eye', 'sin_pos_left_eye', 'cos_pos_right_eye', 'sin_pos_right_eye', 'leader', 'vid_id']"
   ]
  },
  {
   "cell_type": "code",
   "execution_count": 20,
   "metadata": {},
   "outputs": [],
   "source": [
    "niters = 7\n",
    "padding = 'causal'\n",
    "\n",
    "def pool_conv(conv_in, nfilters):\n",
    "    pool = AveragePooling1D(pool_size=2)(conv_in)\n",
    "    conv = Conv1D(filters=nfilters, kernel_size=3, padding=padding, activation='selu', use_bias=False)(pool)\n",
    "    return pool, conv\n",
    "\n",
    "def upsample_add_deconv(upsamp_in, res, nfilters):\n",
    "    upsample = UpSampling1D(size=2)(upsamp_in)\n",
    "    add = Add()([res,upsample])\n",
    "    deconv = Conv1D(filters=nfilters, kernel_size=3, padding=padding, activation='selu', use_bias=False)(add)\n",
    "    return upsample, add, deconv"
   ]
  },
  {
   "cell_type": "code",
   "execution_count": 27,
   "metadata": {},
   "outputs": [],
   "source": [
    "input_layer = Input(batch_shape=(None, None, 6))\n",
    "\n",
    "convs=[None]*niters\n",
    "pools=[None]*(niters-1)\n",
    "start_nfilters_exponent = 3        # 2**3 = 8 i.e. starting number of filters is 8\n",
    "\n",
    "convs[0] = Conv1D(filters=2**start_nfilters_exponent, kernel_size=3, padding=padding, activation='selu', use_bias=False)(input_layer)\n",
    "for i in range(1,niters):\n",
    "    pools[i-1], convs[i] = pool_conv(convs[i-1], 2**(start_nfilters_exponent+i))\n",
    "\n",
    "ress=[None]*(niters-1)\n",
    "for i in range(niters-1):\n",
    "    ress[i] = Conv1D(filters=2**(start_nfilters_exponent+i+1), kernel_size=1, padding=padding, activation='selu', use_bias=False)(convs[i])\n",
    "    \n",
    "upsamples=[None]*(niters-1)\n",
    "adds=[None]*(niters-1)\n",
    "deconvs=[None]*(niters-1)\n",
    "\n",
    "upsamples[-1], adds[-1], deconvs[-1] = upsample_add_deconv(convs[-1], ress[-1], 2**(start_nfilters_exponent+len(ress)-1))\n",
    "for i in range(niters-2,0,-1):\n",
    "    upsamples[i-1], adds[i-1], deconvs[i-1] = upsample_add_deconv(deconvs[i], ress[i-1], 2**(start_nfilters_exponent+i-1))\n",
    "\n",
    "output_layer = Conv1D(filters=1, kernel_size=3, padding=padding, activation='linear')(deconvs[0])\n",
    "\n",
    "model = Model(input_layer, output_layer)\n",
    "model.compile(Adam(lr=0.001, amsgrad=True), loss='binary_crossentropy')"
   ]
  },
  {
   "cell_type": "code",
   "execution_count": 28,
   "metadata": {},
   "outputs": [],
   "source": [
    "half_batch = 4096\n",
    "def generate_training_batch():\n",
    "    vid_id = np.random.randint(0,len(training_folders))\n",
    "    f_id = np.random.randint(0,n_inds)\n",
    "    while (True):\n",
    "        n_id = np.random.randint(0,n_inds)\n",
    "        if n_id != f_id:\n",
    "            break\n",
    "    tmp = df_train[(df_train['vid_id'] == vid_id) & (df_train['f_id'] == f_id) & (df_train['n_id'] == n_id)]\n",
    "    #tmp_cc = one_hot_cc_train[(df_train['vid_id'] == vid_id) & (df_train['f_id'] == f_id) & (df_train['n_id'] == n_id)]\n",
    "    #tmp_tau = one_hot_tau_train[(df_train['vid_id'] == vid_id) & (df_train['f_id'] == f_id) & (df_train['n_id'] == n_id)]\n",
    "    \n",
    "    idx = np.random.randint(half_batch,tmp.shape[0]-half_batch)\n",
    "    x = tmp[idx-half_batch:idx+half_batch][['ang_area_left_eye', 'ang_area_right_eye', 'cos_pos_left_eye', 'sin_pos_left_eye', 'cos_pos_right_eye', 'sin_pos_right_eye']].values[None,...]\n",
    "    #y = np.concatenate((tmp_cc[idx-half_batch:idx+half_batch,:], tmp_tau[idx-half_batch:idx+half_batch,:]), axis=1)[None,...]\n",
    "    y = tmp[idx-half_batch:idx+half_batch][['leader']].values[None,...]\n",
    "    \n",
    "    return x,y\n",
    "\n",
    "def generate_validation_batch():\n",
    "    vid_id = np.random.randint(0,len(validation_folders))\n",
    "    f_id = np.random.randint(0,n_inds)\n",
    "    while (True):\n",
    "        n_id = np.random.randint(0,n_inds)\n",
    "        if n_id != f_id:\n",
    "            break\n",
    "    tmp = df_validation[(df_validation['vid_id'] == vid_id) & (df_validation['f_id'] == f_id) & (df_validation['n_id'] == n_id)]\n",
    "    #tmp_cc = one_hot_cc_validation[(df_validation['vid_id'] == vid_id) & (df_validation['f_id'] == f_id) & (df_validation['n_id'] == n_id)]\n",
    "    #tmp_tau = one_hot_tau_validation[(df_validation['vid_id'] == vid_id) & (df_validation['f_id'] == f_id) & (df_validation['n_id'] == n_id)]\n",
    "    \n",
    "    idx = np.random.randint(half_batch,tmp.shape[0]-half_batch)\n",
    "    x = tmp[idx-half_batch:idx+half_batch][['ang_area_left_eye', 'ang_area_right_eye', 'cos_pos_left_eye', 'sin_pos_left_eye', 'cos_pos_right_eye', 'sin_pos_right_eye']].values[None,...]\n",
    "    #y = np.concatenate((tmp_cc[idx-half_batch:idx+half_batch,:], tmp_tau[idx-half_batch:idx+half_batch,:]), axis=1)[None,...]\n",
    "    y = tmp[idx-half_batch:idx+half_batch][['leader']].values[None,...]\n",
    "    \n",
    "    return x,y\n",
    "\n",
    "def training_generator(batch_size):\n",
    "    while(True):\n",
    "        x=[]\n",
    "        y=[]\n",
    "        for idx in range(batch_size):\n",
    "            tmpx,tmpy = generate_training_batch()\n",
    "            x.append(tmpx)\n",
    "            y.append(tmpy)\n",
    "        \n",
    "        x = np.vstack(x)\n",
    "        y = np.vstack(y)\n",
    "        yield (x,y)\n",
    "        \n",
    "def validation_generator(batch_size):\n",
    "    while(True):\n",
    "        x=[]\n",
    "        y=[]\n",
    "        for idx in range(batch_size):\n",
    "            tmpx,tmpy = generate_validation_batch()\n",
    "            x.append(tmpx)\n",
    "            y.append(tmpy)\n",
    "        \n",
    "        x = np.vstack(x)\n",
    "        y = np.vstack(y)\n",
    "        yield (x,y)"
   ]
  },
  {
   "cell_type": "code",
   "execution_count": 33,
   "metadata": {
    "scrolled": true
   },
   "outputs": [
    {
     "name": "stderr",
     "output_type": "stream",
     "text": [
      "/home/user/.local/lib/python3.6/site-packages/keras/engine/training.py:2087: UserWarning: Using a generator with `use_multiprocessing=True` and multiple workers may duplicate your data. Please consider using the`keras.utils.Sequence class.\n",
      "  UserWarning('Using a generator with `use_multiprocessing=True`'\n"
     ]
    },
    {
     "name": "stdout",
     "output_type": "stream",
     "text": [
      "Epoch 1/20\n",
      "500/500 [==============================] - 9s 17ms/step - loss: 1.1472\n",
      "Epoch 2/20\n",
      "500/500 [==============================] - 8s 17ms/step - loss: 1.1180\n",
      "Epoch 3/20\n",
      "500/500 [==============================] - 8s 17ms/step - loss: 1.0824\n",
      "Epoch 4/20\n",
      "500/500 [==============================] - 8s 17ms/step - loss: 1.1968\n",
      "Epoch 5/20\n",
      "500/500 [==============================] - 9s 17ms/step - loss: 1.1581\n",
      "Epoch 6/20\n",
      "500/500 [==============================] - 8s 17ms/step - loss: 1.1038\n",
      "Epoch 7/20\n",
      "500/500 [==============================] - 8s 17ms/step - loss: 1.1732\n",
      "Epoch 8/20\n",
      "500/500 [==============================] - 8s 17ms/step - loss: 1.1575\n",
      "Epoch 9/20\n",
      "500/500 [==============================] - 9s 17ms/step - loss: 1.2078\n",
      "Epoch 10/20\n",
      "500/500 [==============================] - 9s 17ms/step - loss: 1.1573\n",
      "Epoch 11/20\n",
      "500/500 [==============================] - 9s 17ms/step - loss: 1.1173\n",
      "Epoch 12/20\n",
      "500/500 [==============================] - 9s 18ms/step - loss: 1.1591\n",
      "Epoch 13/20\n",
      "500/500 [==============================] - 9s 17ms/step - loss: 1.1309\n",
      "Epoch 14/20\n",
      "500/500 [==============================] - 9s 17ms/step - loss: 1.1149\n",
      "Epoch 15/20\n",
      "500/500 [==============================] - 9s 17ms/step - loss: 1.1812\n",
      "Epoch 16/20\n",
      "500/500 [==============================] - 9s 17ms/step - loss: 1.1373\n",
      "Epoch 17/20\n",
      "500/500 [==============================] - 9s 17ms/step - loss: 1.1488\n",
      "Epoch 18/20\n",
      "500/500 [==============================] - 9s 17ms/step - loss: 1.1673\n",
      "Epoch 19/20\n",
      "500/500 [==============================] - 9s 17ms/step - loss: 1.1142\n",
      "Epoch 20/20\n",
      "500/500 [==============================] - 9s 17ms/step - loss: 1.1479\n"
     ]
    },
    {
     "data": {
      "text/plain": [
       "<keras.callbacks.History at 0x7f7cd4594940>"
      ]
     },
     "execution_count": 33,
     "metadata": {},
     "output_type": "execute_result"
    }
   ],
   "source": [
    "#a = TensorBoard(log_dir='./logs', histogram_freq=0, write_graph=True, write_grads=False, write_images=False, embeddings_freq=0)\n",
    "#b = ReduceLROnPlateau(monitor='val_loss', factor=0.2, patience=2, verbose=1, mode='auto', min_delta=0.001, cooldown=0, min_lr=0)\n",
    "model.fit_generator(training_generator(1), 500, 20, workers=8, use_multiprocessing=True)"
   ]
  },
  {
   "cell_type": "code",
   "execution_count": 39,
   "metadata": {},
   "outputs": [
    {
     "data": {
      "image/png": "[encoded data removed]",
      "text/plain": [
       "<Figure size 1440x360 with 1 Axes>"
      ]
     },
     "metadata": {},
     "output_type": "display_data"
    },
    {
     "data": {
      "image/png": "[encoded data removed]",
      "text/plain": [
       "<Figure size 1440x360 with 1 Axes>"
      ]
     },
     "metadata": {},
     "output_type": "display_data"
    }
   ],
   "source": [
    "xt,yt = generate_training_batch()\n",
    "yt_preds = model.predict(xt)\n",
    "\n",
    "plt.figure(figsize=(20,5))\n",
    "plt.imshow(yt[0].T, aspect='auto')\n",
    "plt.show()\n",
    "plt.figure(figsize=(20,5))\n",
    "plt.imshow(yt_preds[0].T, aspect='auto')\n",
    "plt.show()"
   ]
  },
  {
   "cell_type": "code",
   "execution_count": 32,
   "metadata": {},
   "outputs": [
    {
     "data": {
      "image/png": "[encoded data removed]",
      "text/plain": [
       "<Figure size 1440x360 with 1 Axes>"
      ]
     },
     "metadata": {},
     "output_type": "display_data"
    },
    {
     "data": {
      "image/png": "[encoded data removed]",
      "text/plain": [
       "<Figure size 1440x360 with 1 Axes>"
      ]
     },
     "metadata": {},
     "output_type": "display_data"
    }
   ],
   "source": [
    "xv,yv = generate_validation_batch()\n",
    "yv_preds = model.predict(xv)\n",
    "\n",
    "plt.figure(figsize=(20,5))\n",
    "plt.imshow(yv[0].T, aspect='auto')\n",
    "plt.show()\n",
    "plt.figure(figsize=(20,5))\n",
    "plt.imshow(yv_preds[0].T, aspect='auto')\n",
    "plt.show()"
   ]
  },
  {
   "cell_type": "code",
   "execution_count": null,
   "metadata": {},
   "outputs": [],
   "source": []
  }
 ],
 "metadata": {
  "kernelspec": {
   "display_name": "Python 3",
   "language": "python",
   "name": "python3"
  },
  "language_info": {
   "codemirror_mode": {
    "name": "ipython",
    "version": 3
   },
   "file_extension": ".py",
   "mimetype": "text/x-python",
   "name": "python",
   "nbconvert_exporter": "python",
   "pygments_lexer": "ipython3",
   "version": "3.6.3"
  }
 },
 "nbformat": 4,
 "nbformat_minor": 2
}
