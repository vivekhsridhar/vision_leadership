{
 "cells": [
  {
   "cell_type": "code",
   "execution_count": 1,
   "metadata": {},
   "outputs": [
    {
     "name": "stderr",
     "output_type": "stream",
     "text": [
      "/home/user/.local/lib/python3.6/site-packages/h5py/__init__.py:36: FutureWarning: Conversion of the second argument of issubdtype from `float` to `np.floating` is deprecated. In future, it will be treated as `np.float64 == np.dtype(float).type`.\n",
      "  from ._conv import register_converters as _register_converters\n",
      "Using TensorFlow backend.\n"
     ]
    }
   ],
   "source": [
    "import numpy as np\n",
    "import pandas as pd\n",
    "import matplotlib.pyplot as plt\n",
    "from numpy.lib.stride_tricks import as_strided\n",
    "from keras.callbacks import TensorBoard, ReduceLROnPlateau, EarlyStopping\n",
    "from keras.layers import Input, Conv2D, AveragePooling2D, UpSampling2D, Add\n",
    "from keras.regularizers import l2\n",
    "from keras.models import Model\n",
    "from keras.optimizers import RMSprop\n",
    "from keras.utils import to_categorical"
   ]
  },
  {
   "cell_type": "code",
   "execution_count": 2,
   "metadata": {},
   "outputs": [],
   "source": [
    "# increase input size to apply convolutions\n",
    "def tile_array(a, b0, b1):\n",
    "    r, c = a.shape\n",
    "    rs, cs = a.strides \n",
    "    x = as_strided(a, (r, b0, c, b1), (rs, 0, cs, 0))\n",
    "    return x.reshape(r*b0, c*b1)   "
   ]
  },
  {
   "cell_type": "code",
   "execution_count": 3,
   "metadata": {},
   "outputs": [],
   "source": [
    "n_inds = 10\n",
    "training_folders = ['0066', '0105']\n",
    "validation_folders = ['0126']"
   ]
  },
  {
   "cell_type": "code",
   "execution_count": 4,
   "metadata": {},
   "outputs": [],
   "source": [
    "for i,name in enumerate(training_folders):\n",
    "    tmp = pd.read_hdf('/mnt/ssd1/Documents/Vivek/dnn/vision_leadership/golden_shiners/10_fish/' + name + '/' + name + '.h5')\n",
    "    tmp['vid_id'] = i\n",
    "    if i != 0:\n",
    "        df_train = np.concatenate((df_train,tmp), axis=0)\n",
    "    else:\n",
    "        df_train = tmp\n",
    "        \n",
    "for i,name in enumerate(validation_folders):\n",
    "    tmp = pd.read_hdf('/mnt/ssd1/Documents/Vivek/dnn/vision_leadership/golden_shiners/10_fish/' + name + '/' + name + '.h5')\n",
    "    tmp['vid_id'] = i\n",
    "    if i != 0:\n",
    "        df_validation = np.concatenate((df_validation,tmp), axis=0)\n",
    "    else:\n",
    "        df_validation = tmp\n",
    "\n",
    "df_train = pd.DataFrame(df_train)\n",
    "df_validation = pd.DataFrame(df_validation)\n",
    "\n",
    "df_train.columns = ['frame', 'ang_area_left_eye', 'ang_area_right_eye', 'f_id', 'n_id', 'cos_pos_left_eye', 'sin_pos_left_eye', 'cos_pos_right_eye', 'sin_pos_right_eye', 'leader', 'vid_id']\n",
    "df_validation.columns = ['frame', 'ang_area_left_eye', 'ang_area_right_eye', 'f_id', 'n_id', 'cos_pos_left_eye', 'sin_pos_left_eye', 'cos_pos_right_eye', 'sin_pos_right_eye', 'leader', 'vid_id']"
   ]
  },
  {
   "cell_type": "code",
   "execution_count": 5,
   "metadata": {},
   "outputs": [],
   "source": [
    "def generate_training_batch():\n",
    "    vid_id = np.random.randint(0,len(training_folders))\n",
    "    fr = np.random.randint(np.min(df_train['frame']),np.max(df_train['frame']))\n",
    "\n",
    "    tmp = df_train[(df_train['vid_id'] == vid_id) & (df_train['frame'] == fr)]\n",
    "    v1 = tile_array(np.array(tmp.pivot_table(index=['n_id'], columns='f_id', values='cos_pos_left_eye').reset_index())[:,1:], 50, 50)[...,np.newaxis]\n",
    "    v2 = tile_array(np.array(tmp.pivot_table(index=['n_id'], columns='f_id', values='sin_pos_left_eye').reset_index())[:,1:], 50, 50)[...,np.newaxis]\n",
    "    v3 = tile_array(np.array(tmp.pivot_table(index=['n_id'], columns='f_id', values='cos_pos_right_eye').reset_index())[:,1:], 50, 50)[...,np.newaxis]\n",
    "    v4 = tile_array(np.array(tmp.pivot_table(index=['n_id'], columns='f_id', values='sin_pos_right_eye').reset_index())[:,1:], 50, 50)[...,np.newaxis]\n",
    "    v5 = tile_array(np.array(tmp.pivot_table(index=['n_id'], columns='f_id', values='ang_area_left_eye').reset_index())[:,1:], 50, 50)[...,np.newaxis]\n",
    "    v6 = tile_array(np.array(tmp.pivot_table(index=['n_id'], columns='f_id', values='ang_area_right_eye').reset_index())[:,1:], 50, 50)[...,np.newaxis]\n",
    "\n",
    "    v = np.concatenate((v1,v2,v3,v4,v5,v6), axis=2)\n",
    "    l = tile_array(np.array(tmp.pivot_table(index=['n_id'], columns='f_id', values='leader').reset_index())[:,1:], 50, 50)[...,np.newaxis]\n",
    "    l = np.nan_to_num(l)\n",
    "        \n",
    "    x = np.pad(v, ((6,6), (6,6), (0,0)), mode='constant')\n",
    "    y = np.pad(l, ((6,6), (6,6), (0,0)), mode='constant')\n",
    "    \n",
    "    return x[np.newaxis,...],y[np.newaxis,...]"
   ]
  },
  {
   "cell_type": "code",
   "execution_count": 6,
   "metadata": {
    "scrolled": true
   },
   "outputs": [
    {
     "data": {
      "text/plain": [
       "((1, 512, 512, 6), (1, 512, 512, 1))"
      ]
     },
     "execution_count": 6,
     "metadata": {},
     "output_type": "execute_result"
    }
   ],
   "source": [
    "vision, leader = generate_training_batch()\n",
    "vision.shape, leader.shape"
   ]
  },
  {
   "cell_type": "code",
   "execution_count": 7,
   "metadata": {},
   "outputs": [
    {
     "data": {
      "image/png": "[encoded data removed]",
      "text/plain": [
       "<Figure size 432x288 with 1 Axes>"
      ]
     },
     "metadata": {},
     "output_type": "display_data"
    },
    {
     "data": {
      "image/png": "[encoded data removed]",
      "text/plain": [
       "<Figure size 432x288 with 1 Axes>"
      ]
     },
     "metadata": {},
     "output_type": "display_data"
    },
    {
     "data": {
      "image/png": "[encoded data removed]",
      "text/plain": [
       "<Figure size 432x288 with 1 Axes>"
      ]
     },
     "metadata": {},
     "output_type": "display_data"
    },
    {
     "data": {
      "image/png": "[encoded data removed]",
      "text/plain": [
       "<Figure size 432x288 with 1 Axes>"
      ]
     },
     "metadata": {},
     "output_type": "display_data"
    },
    {
     "data": {
      "image/png": "[encoded data removed]",
      "text/plain": [
       "<Figure size 432x288 with 1 Axes>"
      ]
     },
     "metadata": {},
     "output_type": "display_data"
    },
    {
     "data": {
      "image/png": "[encoded data removed]",
      "text/plain": [
       "<Figure size 432x288 with 1 Axes>"
      ]
     },
     "metadata": {},
     "output_type": "display_data"
    },
    {
     "data": {
      "image/png": "[encoded data removed]",
      "text/plain": [
       "<Figure size 432x288 with 1 Axes>"
      ]
     },
     "metadata": {},
     "output_type": "display_data"
    }
   ],
   "source": [
    "plt.imshow(np.squeeze(vision)[...,0].astype('uint8'))\n",
    "plt.show()\n",
    "\n",
    "plt.imshow(np.squeeze(vision)[...,1].astype('uint8'))\n",
    "plt.show()\n",
    "\n",
    "plt.imshow(np.squeeze(vision)[...,2].astype('uint8'))\n",
    "plt.show()\n",
    "\n",
    "plt.imshow(np.squeeze(vision)[...,3].astype('uint8'))\n",
    "plt.show()\n",
    "\n",
    "plt.imshow(np.squeeze(vision)[...,4].astype('uint8'))\n",
    "plt.show()\n",
    "\n",
    "plt.imshow(np.squeeze(vision)[...,5].astype('uint8'))\n",
    "plt.show()\n",
    "\n",
    "plt.imshow(np.squeeze(leader))\n",
    "plt.show()"
   ]
  },
  {
   "cell_type": "code",
   "execution_count": 8,
   "metadata": {},
   "outputs": [],
   "source": [
    "def generator():\n",
    "    while(True):\n",
    "        x, y = generate_training_batch()\n",
    "    \n",
    "        yield (x,y)"
   ]
  },
  {
   "cell_type": "code",
   "execution_count": 9,
   "metadata": {},
   "outputs": [],
   "source": [
    "niters = 5\n",
    "padding = 'same'\n",
    "\n",
    "def pool_conv(conv_in, nfilters):\n",
    "    pool = AveragePooling2D(pool_size=(2,2))(conv_in)\n",
    "    conv = Conv2D(filters=nfilters, kernel_size=(3,3), padding=padding, activation='selu', use_bias=False)(pool)\n",
    "    return pool, conv\n",
    "\n",
    "def upsample_add_deconv(upsamp_in, res, nfilters):\n",
    "    upsample = UpSampling2D(size=(2,2))(upsamp_in)\n",
    "    add = Add()([res,upsample])\n",
    "    deconv = Conv2D(filters=nfilters, kernel_size=(3,3), padding=padding, activation='selu', use_bias=False)(add)\n",
    "    return upsample, add, deconv"
   ]
  },
  {
   "cell_type": "code",
   "execution_count": 10,
   "metadata": {},
   "outputs": [],
   "source": [
    "input_layer = Input(batch_shape=(None, None, None, 6))\n",
    "\n",
    "convs=[None]*niters\n",
    "pools=[None]*(niters-1)\n",
    "start_nfilters_exponent = 3        # 2**3 = 8 i.e. starting number of filters is 8\n",
    "\n",
    "convs[0] = Conv2D(filters=2**start_nfilters_exponent, kernel_size=(3,3), padding=padding, activation='selu', use_bias=False)(input_layer)\n",
    "for i in range(1,niters):\n",
    "    pools[i-1], convs[i] = pool_conv(convs[i-1], 2**(start_nfilters_exponent+i))\n",
    "\n",
    "ress=[None]*(niters-1)\n",
    "for i in range(niters-1):\n",
    "    ress[i] = Conv2D(filters=2**(start_nfilters_exponent+i+1), kernel_size=(3,3), padding=padding, activation='selu', use_bias=False)(convs[i])\n",
    "    \n",
    "upsamples=[None]*(niters-1)\n",
    "adds=[None]*(niters-1)\n",
    "deconvs=[None]*(niters-1)\n",
    "\n",
    "upsamples[-1], adds[-1], deconvs[-1] = upsample_add_deconv(convs[-1], ress[-1], 2**(start_nfilters_exponent+len(ress)-1))\n",
    "for i in range(niters-2,0,-1):\n",
    "    upsamples[i-1], adds[i-1], deconvs[i-1] = upsample_add_deconv(deconvs[i], ress[i-1], 2**(start_nfilters_exponent+i-1))\n",
    "\n",
    "output_layer = Conv2D(filters=1, kernel_size=(3,3), padding=padding, activation='selu')(deconvs[0])\n",
    "\n",
    "model = Model(input_layer, output_layer)\n",
    "model.compile(RMSprop(lr=2e-4), loss='mse')"
   ]
  },
  {
   "cell_type": "code",
   "execution_count": null,
   "metadata": {
    "scrolled": true
   },
   "outputs": [
    {
     "name": "stderr",
     "output_type": "stream",
     "text": [
      "/home/user/.local/lib/python3.6/site-packages/keras/engine/training.py:2087: UserWarning: Using a generator with `use_multiprocessing=True` and multiple workers may duplicate your data. Please consider using the`keras.utils.Sequence class.\n",
      "  UserWarning('Using a generator with `use_multiprocessing=True`'\n"
     ]
    },
    {
     "name": "stdout",
     "output_type": "stream",
     "text": [
      "Epoch 1/10\n",
      "   5/1000 [..............................] - ETA: 8:15 - loss: 4223.7296 "
     ]
    }
   ],
   "source": [
    "model.fit_generator(generator(), 1000, 10, workers=8, use_multiprocessing=True)"
   ]
  },
  {
   "cell_type": "code",
   "execution_count": null,
   "metadata": {},
   "outputs": [],
   "source": []
  },
  {
   "cell_type": "code",
   "execution_count": null,
   "metadata": {},
   "outputs": [],
   "source": []
  },
  {
   "cell_type": "code",
   "execution_count": null,
   "metadata": {},
   "outputs": [],
   "source": []
  },
  {
   "cell_type": "code",
   "execution_count": null,
   "metadata": {},
   "outputs": [],
   "source": []
  },
  {
   "cell_type": "code",
   "execution_count": 27,
   "metadata": {},
   "outputs": [],
   "source": [
    "input_layer = Input(batch_shape=(None, None, 6))\n",
    "\n",
    "convs=[None]*niters\n",
    "pools=[None]*(niters-1)\n",
    "start_nfilters_exponent = 3        # 2**3 = 8 i.e. starting number of filters is 8\n",
    "\n",
    "convs[0] = Conv1D(filters=2**start_nfilters_exponent, kernel_size=3, padding=padding, activation='selu', use_bias=False)(input_layer)\n",
    "for i in range(1,niters):\n",
    "    pools[i-1], convs[i] = pool_conv(convs[i-1], 2**(start_nfilters_exponent+i))\n",
    "\n",
    "ress=[None]*(niters-1)\n",
    "for i in range(niters-1):\n",
    "    ress[i] = Conv1D(filters=2**(start_nfilters_exponent+i+1), kernel_size=1, padding=padding, activation='selu', use_bias=False)(convs[i])\n",
    "    \n",
    "upsamples=[None]*(niters-1)\n",
    "adds=[None]*(niters-1)\n",
    "deconvs=[None]*(niters-1)\n",
    "\n",
    "upsamples[-1], adds[-1], deconvs[-1] = upsample_add_deconv(convs[-1], ress[-1], 2**(start_nfilters_exponent+len(ress)-1))\n",
    "for i in range(niters-2,0,-1):\n",
    "    upsamples[i-1], adds[i-1], deconvs[i-1] = upsample_add_deconv(deconvs[i], ress[i-1], 2**(start_nfilters_exponent+i-1))\n",
    "\n",
    "output_layer = Conv1D(filters=1, kernel_size=3, padding=padding, activation='linear')(deconvs[0])\n",
    "\n",
    "model = Model(input_layer, output_layer)\n",
    "model.compile(Adam(lr=0.001, amsgrad=True), loss='binary_crossentropy')"
   ]
  },
  {
   "cell_type": "code",
   "execution_count": 28,
   "metadata": {},
   "outputs": [],
   "source": [
    "half_batch = 4096\n",
    "def generate_training_batch():\n",
    "    vid_id = np.random.randint(0,len(training_folders))\n",
    "    f_id = np.random.randint(0,n_inds)\n",
    "    while (True):\n",
    "        n_id = np.random.randint(0,n_inds)\n",
    "        if n_id != f_id:\n",
    "            break\n",
    "    tmp = df_train[(df_train['vid_id'] == vid_id) & (df_train['f_id'] == f_id) & (df_train['n_id'] == n_id)]\n",
    "    \n",
    "    idx = np.random.randint(half_batch,tmp.shape[0]-half_batch)\n",
    "    x = tmp[idx-half_batch:idx+half_batch][['ang_area_left_eye', 'ang_area_right_eye', 'cos_pos_left_eye', 'sin_pos_left_eye', 'cos_pos_right_eye', 'sin_pos_right_eye']].values[None,...]\n",
    "    y = tmp[idx-half_batch:idx+half_batch][['leader']].values[None,...]\n",
    "    \n",
    "    return x,y\n",
    "\n",
    "def generate_validation_batch():\n",
    "    vid_id = np.random.randint(0,len(validation_folders))\n",
    "    f_id = np.random.randint(0,n_inds)\n",
    "    while (True):\n",
    "        n_id = np.random.randint(0,n_inds)\n",
    "        if n_id != f_id:\n",
    "            break\n",
    "    tmp = df_validation[(df_validation['vid_id'] == vid_id) & (df_validation['f_id'] == f_id) & (df_validation['n_id'] == n_id)]\n",
    "    \n",
    "    idx = np.random.randint(half_batch,tmp.shape[0]-half_batch)\n",
    "    x = tmp[idx-half_batch:idx+half_batch][['ang_area_left_eye', 'ang_area_right_eye', 'cos_pos_left_eye', 'sin_pos_left_eye', 'cos_pos_right_eye', 'sin_pos_right_eye']].values[None,...]\n",
    "    y = tmp[idx-half_batch:idx+half_batch][['leader']].values[None,...]\n",
    "    \n",
    "    return x,y\n",
    "\n",
    "def training_generator(batch_size):\n",
    "    while(True):\n",
    "        x=[]\n",
    "        y=[]\n",
    "        for idx in range(batch_size):\n",
    "            tmpx,tmpy = generate_training_batch()\n",
    "            x.append(tmpx)\n",
    "            y.append(tmpy)\n",
    "        \n",
    "        x = np.vstack(x)\n",
    "        y = np.vstack(y)\n",
    "        yield (x,y)\n",
    "        \n",
    "def validation_generator(batch_size):\n",
    "    while(True):\n",
    "        x=[]\n",
    "        y=[]\n",
    "        for idx in range(batch_size):\n",
    "            tmpx,tmpy = generate_validation_batch()\n",
    "            x.append(tmpx)\n",
    "            y.append(tmpy)\n",
    "        \n",
    "        x = np.vstack(x)\n",
    "        y = np.vstack(y)\n",
    "        yield (x,y)"
   ]
  },
  {
   "cell_type": "code",
   "execution_count": 33,
   "metadata": {
    "scrolled": true
   },
   "outputs": [
    {
     "name": "stderr",
     "output_type": "stream",
     "text": [
      "/home/user/.local/lib/python3.6/site-packages/keras/engine/training.py:2087: UserWarning: Using a generator with `use_multiprocessing=True` and multiple workers may duplicate your data. Please consider using the`keras.utils.Sequence class.\n",
      "  UserWarning('Using a generator with `use_multiprocessing=True`'\n"
     ]
    },
    {
     "name": "stdout",
     "output_type": "stream",
     "text": [
      "Epoch 1/20\n",
      "500/500 [==============================] - 9s 17ms/step - loss: 1.1472\n",
      "Epoch 2/20\n",
      "500/500 [==============================] - 8s 17ms/step - loss: 1.1180\n",
      "Epoch 3/20\n",
      "500/500 [==============================] - 8s 17ms/step - loss: 1.0824\n",
      "Epoch 4/20\n",
      "500/500 [==============================] - 8s 17ms/step - loss: 1.1968\n",
      "Epoch 5/20\n",
      "500/500 [==============================] - 9s 17ms/step - loss: 1.1581\n",
      "Epoch 6/20\n",
      "500/500 [==============================] - 8s 17ms/step - loss: 1.1038\n",
      "Epoch 7/20\n",
      "500/500 [==============================] - 8s 17ms/step - loss: 1.1732\n",
      "Epoch 8/20\n",
      "500/500 [==============================] - 8s 17ms/step - loss: 1.1575\n",
      "Epoch 9/20\n",
      "500/500 [==============================] - 9s 17ms/step - loss: 1.2078\n",
      "Epoch 10/20\n",
      "500/500 [==============================] - 9s 17ms/step - loss: 1.1573\n",
      "Epoch 11/20\n",
      "500/500 [==============================] - 9s 17ms/step - loss: 1.1173\n",
      "Epoch 12/20\n",
      "500/500 [==============================] - 9s 18ms/step - loss: 1.1591\n",
      "Epoch 13/20\n",
      "500/500 [==============================] - 9s 17ms/step - loss: 1.1309\n",
      "Epoch 14/20\n",
      "500/500 [==============================] - 9s 17ms/step - loss: 1.1149\n",
      "Epoch 15/20\n",
      "500/500 [==============================] - 9s 17ms/step - loss: 1.1812\n",
      "Epoch 16/20\n",
      "500/500 [==============================] - 9s 17ms/step - loss: 1.1373\n",
      "Epoch 17/20\n",
      "500/500 [==============================] - 9s 17ms/step - loss: 1.1488\n",
      "Epoch 18/20\n",
      "500/500 [==============================] - 9s 17ms/step - loss: 1.1673\n",
      "Epoch 19/20\n",
      "500/500 [==============================] - 9s 17ms/step - loss: 1.1142\n",
      "Epoch 20/20\n",
      "500/500 [==============================] - 9s 17ms/step - loss: 1.1479\n"
     ]
    },
    {
     "data": {
      "text/plain": [
       "<keras.callbacks.History at 0x7f7cd4594940>"
      ]
     },
     "execution_count": 33,
     "metadata": {},
     "output_type": "execute_result"
    }
   ],
   "source": [
    "#a = TensorBoard(log_dir='./logs', histogram_freq=0, write_graph=True, write_grads=False, write_images=False, embeddings_freq=0)\n",
    "#b = ReduceLROnPlateau(monitor='val_loss', factor=0.2, patience=2, verbose=1, mode='auto', min_delta=0.001, cooldown=0, min_lr=0)\n",
    "model.fit_generator(training_generator(1), 500, 20, workers=8, use_multiprocessing=True)"
   ]
  },
  {
   "cell_type": "code",
   "execution_count": null,
   "metadata": {},
   "outputs": [],
   "source": []
  }
 ],
 "metadata": {
  "kernelspec": {
   "display_name": "Python 3",
   "language": "python",
   "name": "python3"
  },
  "language_info": {
   "codemirror_mode": {
    "name": "ipython",
    "version": 3
   },
   "file_extension": ".py",
   "mimetype": "text/x-python",
   "name": "python",
   "nbconvert_exporter": "python",
   "pygments_lexer": "ipython3",
   "version": "3.6.3"
  }
 },
 "nbformat": 4,
 "nbformat_minor": 2
}
