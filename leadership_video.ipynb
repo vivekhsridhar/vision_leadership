{
 "cells": [
  {
   "cell_type": "code",
   "execution_count": 52,
   "metadata": {},
   "outputs": [],
   "source": [
    "import numpy as np\n",
    "import pandas as pd\n",
    "import cv2\n",
    "import glob\n",
    "import matplotlib.pyplot as plt\n",
    "from VideoReader import VideoReader"
   ]
  },
  {
   "cell_type": "code",
   "execution_count": 53,
   "metadata": {},
   "outputs": [],
   "source": [
    "folder_id = '0066'\n",
    "\n",
    "file = \"/mnt/ssd1/Documents/Vivek/dnn/vision_leadership/golden_shiners/10_fish/\" + folder_id + \"/\" + folder_id + \".csv\"\n",
    "videos = sorted(glob.glob(\"/media/user/Samsung_T3/Work/Documents/Data/MGrobisData/10-fish/\" + folder_id + \"/\" + folder_id + \"_*.mov\"))"
   ]
  },
  {
   "cell_type": "code",
   "execution_count": 54,
   "metadata": {},
   "outputs": [
    {
     "data": {
      "text/plain": [
       "-1"
      ]
     },
     "execution_count": 54,
     "metadata": {},
     "output_type": "execute_result"
    }
   ],
   "source": [
    "font = cv2.FONT_HERSHEY_SIMPLEX\n",
    "#fourcc = cv2.VideoWriter_fourcc(*'avc1')\n",
    "#out = cv2.VideoWriter(filename = folder_id + '.mp4', fourcc = fourcc, fps = 30.0, frameSize = (960, 516), isColor = True)\n",
    "\n",
    "fr = 0\n",
    "df = pd.read_csv(file)\n",
    "for cnt, video in enumerate(videos):\n",
    "    cap = cv2.VideoCapture(video)\n",
    "    \n",
    "    last = this = 0\n",
    "    while(True):\n",
    "        # Capture frame-by-frame\n",
    "        ret, frame = cap.read()\n",
    "\n",
    "        this = cap.get(1)\n",
    "        if ret:\n",
    "            frame = cv2.resize(frame, None, fx=0.5, fy=0.5, interpolation = cv2.INTER_AREA)\n",
    "            tmp = df[df['frame'] == fr]\n",
    "            \n",
    "            for i in np.unique(tmp['f_id']):\n",
    "                x = int(tmp.iloc[np.where(tmp['f_id'] == i)[0],2].values[0]*0.5 - 10)\n",
    "                y = int(tmp.iloc[np.where(tmp['f_id'] == i)[0],3].values[0]*0.5 - 10)\n",
    "                cv2.putText(frame, str(int(i)), (x,y), font, 0.4, (0,0,0), 1, cv2.LINE_AA)\n",
    "            \n",
    "            f = tmp.iloc[np.where(tmp['leader'] == 1)[0],9].values\n",
    "            n = tmp.iloc[np.where(tmp['leader'] == 1)[0],10].values\n",
    "            for i in range(0,len(f)):\n",
    "                x1 = int(tmp.iloc[np.where(tmp['f_id'] == n[i])[0],2].values[0]*0.5)\n",
    "                y1 = int(tmp.iloc[np.where(tmp['f_id'] == n[i])[0],3].values[0]*0.5)\n",
    "                x2 = int(tmp.iloc[np.where(tmp['f_id'] == f[i])[0],2].values[0]*0.5)\n",
    "                y2 = int(tmp.iloc[np.where(tmp['f_id'] == f[i])[0],3].values[0]*0.5)\n",
    "                cv2.arrowedLine(frame, (x1,y1), (x2,y2), (0,0,255), 1)\n",
    "                \n",
    "            #out.write(frame)\n",
    "            cv2.imshow('frame', frame)\n",
    "\n",
    "        if cv2.waitKey(1) == 27 or last == this:\n",
    "            break\n",
    "\n",
    "        last = this\n",
    "        fr += 1\n",
    "            \n",
    "# When everything done, release the capture\n",
    "#out.release()\n",
    "cv2.destroyAllWindows()\n",
    "cv2.waitKey(1)"
   ]
  },
  {
   "cell_type": "code",
   "execution_count": null,
   "metadata": {},
   "outputs": [],
   "source": []
  }
 ],
 "metadata": {
  "kernelspec": {
   "display_name": "Python 3",
   "language": "python",
   "name": "python3"
  },
  "language_info": {
   "codemirror_mode": {
    "name": "ipython",
    "version": 3
   },
   "file_extension": ".py",
   "mimetype": "text/x-python",
   "name": "python",
   "nbconvert_exporter": "python",
   "pygments_lexer": "ipython3",
   "version": "3.6.3"
  }
 },
 "nbformat": 4,
 "nbformat_minor": 2
}
